{
  "nbformat": 4,
  "nbformat_minor": 0,
  "metadata": {
    "colab": {
      "provenance": [],
      "authorship_tag": "ABX9TyPywn031U8jHa6sOlVTPeH/",
      "include_colab_link": true
    },
    "kernelspec": {
      "name": "python3",
      "display_name": "Python 3"
    },
    "language_info": {
      "name": "python"
    }
  },
  "cells": [
    {
      "cell_type": "markdown",
      "metadata": {
        "id": "view-in-github",
        "colab_type": "text"
      },
      "source": [
        "<a href=\"https://colab.research.google.com/github/Chi68P1/Code/blob/main/Untitled0.ipynb\" target=\"_parent\"><img src=\"https://colab.research.google.com/assets/colab-badge.svg\" alt=\"Open In Colab\"/></a>"
      ]
    },
    {
      "cell_type": "code",
      "execution_count": 5,
      "metadata": {
        "colab": {
          "base_uri": "https://localhost:8080/"
        },
        "id": "iJDKzhLQVsE1",
        "outputId": "8669d45a-c04b-414c-ea3b-86712ae0b7a8"
      },
      "outputs": [
        {
          "name": "stdout",
          "output_type": "stream",
          "text": [
            "Nhập giá trị thứ 1:7\n",
            "Nhập giá trị thứ 2:3\n"
          ]
        },
        {
          "output_type": "execute_result",
          "data": {
            "text/plain": [
              "10"
            ]
          },
          "metadata": {},
          "execution_count": 5
        }
      ],
      "source": [
        "value1 = input('Nhập giá trị thứ 1:')\n",
        "value2 = input('Nhập giá trị thứ 2:')\n",
        "value1 = int(value1)\n",
        "value2 = int(value2)\n",
        "value1 + value2\n"
      ]
    },
    {
      "cell_type": "code",
      "source": [
        "with open('text.txt', mode = 'w') as account:\n",
        "  account.write('201461 Nguyen Van A\\n')\n",
        "  account.write('201462 Nguyen Van B\\n')\n",
        "  account.write('201463 Nguyen Van C\\n')\n"
      ],
      "metadata": {
        "id": "_GSXX0d6W6Lk"
      },
      "execution_count": 10,
      "outputs": []
    },
    {
      "cell_type": "code",
      "source": [
        "with open('text1.txt', mode = 'w') as account:\n",
        "  print('201461 Nguyen Van A', file = account)\n",
        "  print('201462 Nguyen Van B', file = account)\n",
        "  print('201463 Nguyen Van C', file = account)"
      ],
      "metadata": {
        "id": "bds-io7WYT4A"
      },
      "execution_count": 17,
      "outputs": []
    },
    {
      "cell_type": "code",
      "source": [
        "with open('text.txt', mode = 'r') as account:\n",
        "  print(f\"{'MSSV':<10}{'Name':<20}{'Score':>2}\")\n",
        "  for record in account:\n",
        "    MSSV, Name, Score = record.split()\n",
        "    print(f\"{MSSV:<10}{Name:<20}{Score:>2}\")\n"
      ],
      "metadata": {
        "id": "uDaE5gxwZqTX"
      },
      "execution_count": null,
      "outputs": []
    },
    {
      "cell_type": "code",
      "source": [
        "import pandas as pd\n",
        "url = 'data2.csv'\n",
        "dataframe = pd.read_csv(url)\n",
        "# hiển thị 21 dòng \n",
        "dataframe.head(21)\n",
        "\n",
        "# hiển thị 10 dòng \n",
        "dataframe.iloc[0:10]\n",
        "\n",
        "#lọc A trong cột Ho va ten\n",
        "dataframe = dataframe.set_index(dataframe['Ho va ten'])\n",
        "dataframe.loc['A']\n",
        "\n",
        "dataframe[dataframe['Khoa']=='CNTT'].head(20) # lọc khoa\n",
        "dataframe[(dataframe['Khoa']=='CNTT') & (dataframe['Diem']>=5)] # lọc khoa và điểm\n",
        "dataframe['Khoa'].replace('CKM','Cơ khí máy').head(20) # thay tên CKM thành Cơ khí máy\n",
        "\n",
        "print('Diem cao nhat',dataframe['Diem'].max()) # avr() min() count() giá trị điểm cao nhất\n",
        "\n",
        "dataframe['Khoa'].unique() # liệt kê các giá trị trong Khoa\n",
        "\n",
        "dataframe['Khoa'].value_counts()\n",
        "\n",
        "dataframe.drop('MSSV', axis = 1).head(10) # xóa cột MSSV\n",
        "\n",
        "dataframe.drop(['MSSV','Khoa'], axis = 1).head(10) # xóa cột MSSV, Khoa\n",
        "\n",
        "dataframe.drop(dataframe.columns[2:5], axis = 1).head(10) # xóa cột 3 4 5\n",
        "\n",
        "dataframe[dataframe['Khoa']!='CKM'].head(10) # xóa hàng có CKM\n",
        "\n",
        "dataframe[dataframe.index!=4].head(10)\n",
        "\n",
        "dataframe.drop_duplicates().head(10)\n",
        "\n",
        "dataframe.groupby('Khoa').count()\n",
        "\n",
        "dataframe.groupby(['Khoa','Diem']).count()\n",
        "\n",
        "dataframe.groupby('Khoa')['Diem'].count()\n"
      ],
      "metadata": {
        "id": "2lMCv9lxemgR"
      },
      "execution_count": null,
      "outputs": []
    },
    {
      "cell_type": "code",
      "source": [
        "import pandas as pd\n",
        "import numpy as np\n",
        "time_index = pd.date_range('01/01/2023',periods = 100000,freq = '30s')\n",
        "dataframe = pd.DataFrame(index = time_index)\n",
        "dataframe['Acess.Amount'] = np.random.randint(1,10,100000)\n",
        "dataframe.resample('2W').sum() # W lấy theo tuần, M lấy theo tháng"
      ],
      "metadata": {
        "id": "eF4GCaTWsxmn"
      },
      "execution_count": null,
      "outputs": []
    },
    {
      "cell_type": "code",
      "source": [
        "import pandas as pd\n",
        "url = 'http://winterolympicsmedals.com/medals.csv'\n",
        "data = pd.read_csv(url)\n",
        "\n",
        "# tìm tổng số huy chương vàng, bạc, đồng của USA\n",
        "data = data.set_index(data['NOC'])\n",
        "data.loc['USA']\n",
        "data['Medal'].value_counts()\n",
        "\n",
        "\n"
      ],
      "metadata": {
        "id": "8yrdG3NL0CIW",
        "outputId": "91ae397f-18c8-431d-b13e-1f9cead7551c",
        "colab": {
          "base_uri": "https://localhost:8080/"
        }
      },
      "execution_count": 137,
      "outputs": [
        {
          "output_type": "execute_result",
          "data": {
            "text/plain": [
              "Gold      774\n",
              "Silver    773\n",
              "Bronze    764\n",
              "Name: Medal, dtype: int64"
            ]
          },
          "metadata": {},
          "execution_count": 137
        }
      ]
    },
    {
      "cell_type": "code",
      "source": [
        "import pandas as pd\n",
        "url = 'http://winterolympicsmedals.com/medals.csv'\n",
        "data = pd.read_csv(url)\n",
        "\n",
        "data.groupby(['NOC','Sport']).count()\n",
        "# tìm số huy chương vàng theo môn thi cá nhân của USA"
      ],
      "metadata": {
        "id": "TaMcWBUUuvwO",
        "outputId": "90e95600-b565-42f8-9515-4faaa290acd2",
        "colab": {
          "base_uri": "https://localhost:8080/",
          "height": 455
        }
      },
      "execution_count": 140,
      "outputs": [
        {
          "output_type": "execute_result",
          "data": {
            "text/plain": [
              "               Year  City  Discipline  Event  Event gender  Medal\n",
              "NOC Sport                                                        \n",
              "AUS Skating       2     2           2      2             2      2\n",
              "    Skiing        4     4           4      4             4      4\n",
              "AUT Biathlon      1     1           1      1             1      1\n",
              "    Bobsleigh     4     4           4      4             4      4\n",
              "    Luge         16    16          16     16            16     16\n",
              "...             ...   ...         ...    ...           ...    ...\n",
              "USA Luge          4     4           4      4             4      4\n",
              "    Skating     118   118         118    118           118    118\n",
              "    Skiing       57    57          57     57            57     57\n",
              "UZB Skiing        1     1           1      1             1      1\n",
              "YUG Skiing        4     4           4      4             4      4\n",
              "\n",
              "[130 rows x 6 columns]"
            ],
            "text/html": [
              "\n",
              "  <div id=\"df-0420b243-aed3-4f61-8602-c16ddb170267\">\n",
              "    <div class=\"colab-df-container\">\n",
              "      <div>\n",
              "<style scoped>\n",
              "    .dataframe tbody tr th:only-of-type {\n",
              "        vertical-align: middle;\n",
              "    }\n",
              "\n",
              "    .dataframe tbody tr th {\n",
              "        vertical-align: top;\n",
              "    }\n",
              "\n",
              "    .dataframe thead th {\n",
              "        text-align: right;\n",
              "    }\n",
              "</style>\n",
              "<table border=\"1\" class=\"dataframe\">\n",
              "  <thead>\n",
              "    <tr style=\"text-align: right;\">\n",
              "      <th></th>\n",
              "      <th></th>\n",
              "      <th>Year</th>\n",
              "      <th>City</th>\n",
              "      <th>Discipline</th>\n",
              "      <th>Event</th>\n",
              "      <th>Event gender</th>\n",
              "      <th>Medal</th>\n",
              "    </tr>\n",
              "    <tr>\n",
              "      <th>NOC</th>\n",
              "      <th>Sport</th>\n",
              "      <th></th>\n",
              "      <th></th>\n",
              "      <th></th>\n",
              "      <th></th>\n",
              "      <th></th>\n",
              "      <th></th>\n",
              "    </tr>\n",
              "  </thead>\n",
              "  <tbody>\n",
              "    <tr>\n",
              "      <th rowspan=\"2\" valign=\"top\">AUS</th>\n",
              "      <th>Skating</th>\n",
              "      <td>2</td>\n",
              "      <td>2</td>\n",
              "      <td>2</td>\n",
              "      <td>2</td>\n",
              "      <td>2</td>\n",
              "      <td>2</td>\n",
              "    </tr>\n",
              "    <tr>\n",
              "      <th>Skiing</th>\n",
              "      <td>4</td>\n",
              "      <td>4</td>\n",
              "      <td>4</td>\n",
              "      <td>4</td>\n",
              "      <td>4</td>\n",
              "      <td>4</td>\n",
              "    </tr>\n",
              "    <tr>\n",
              "      <th rowspan=\"3\" valign=\"top\">AUT</th>\n",
              "      <th>Biathlon</th>\n",
              "      <td>1</td>\n",
              "      <td>1</td>\n",
              "      <td>1</td>\n",
              "      <td>1</td>\n",
              "      <td>1</td>\n",
              "      <td>1</td>\n",
              "    </tr>\n",
              "    <tr>\n",
              "      <th>Bobsleigh</th>\n",
              "      <td>4</td>\n",
              "      <td>4</td>\n",
              "      <td>4</td>\n",
              "      <td>4</td>\n",
              "      <td>4</td>\n",
              "      <td>4</td>\n",
              "    </tr>\n",
              "    <tr>\n",
              "      <th>Luge</th>\n",
              "      <td>16</td>\n",
              "      <td>16</td>\n",
              "      <td>16</td>\n",
              "      <td>16</td>\n",
              "      <td>16</td>\n",
              "      <td>16</td>\n",
              "    </tr>\n",
              "    <tr>\n",
              "      <th>...</th>\n",
              "      <th>...</th>\n",
              "      <td>...</td>\n",
              "      <td>...</td>\n",
              "      <td>...</td>\n",
              "      <td>...</td>\n",
              "      <td>...</td>\n",
              "      <td>...</td>\n",
              "    </tr>\n",
              "    <tr>\n",
              "      <th rowspan=\"3\" valign=\"top\">USA</th>\n",
              "      <th>Luge</th>\n",
              "      <td>4</td>\n",
              "      <td>4</td>\n",
              "      <td>4</td>\n",
              "      <td>4</td>\n",
              "      <td>4</td>\n",
              "      <td>4</td>\n",
              "    </tr>\n",
              "    <tr>\n",
              "      <th>Skating</th>\n",
              "      <td>118</td>\n",
              "      <td>118</td>\n",
              "      <td>118</td>\n",
              "      <td>118</td>\n",
              "      <td>118</td>\n",
              "      <td>118</td>\n",
              "    </tr>\n",
              "    <tr>\n",
              "      <th>Skiing</th>\n",
              "      <td>57</td>\n",
              "      <td>57</td>\n",
              "      <td>57</td>\n",
              "      <td>57</td>\n",
              "      <td>57</td>\n",
              "      <td>57</td>\n",
              "    </tr>\n",
              "    <tr>\n",
              "      <th>UZB</th>\n",
              "      <th>Skiing</th>\n",
              "      <td>1</td>\n",
              "      <td>1</td>\n",
              "      <td>1</td>\n",
              "      <td>1</td>\n",
              "      <td>1</td>\n",
              "      <td>1</td>\n",
              "    </tr>\n",
              "    <tr>\n",
              "      <th>YUG</th>\n",
              "      <th>Skiing</th>\n",
              "      <td>4</td>\n",
              "      <td>4</td>\n",
              "      <td>4</td>\n",
              "      <td>4</td>\n",
              "      <td>4</td>\n",
              "      <td>4</td>\n",
              "    </tr>\n",
              "  </tbody>\n",
              "</table>\n",
              "<p>130 rows × 6 columns</p>\n",
              "</div>\n",
              "      <button class=\"colab-df-convert\" onclick=\"convertToInteractive('df-0420b243-aed3-4f61-8602-c16ddb170267')\"\n",
              "              title=\"Convert this dataframe to an interactive table.\"\n",
              "              style=\"display:none;\">\n",
              "        \n",
              "  <svg xmlns=\"http://www.w3.org/2000/svg\" height=\"24px\"viewBox=\"0 0 24 24\"\n",
              "       width=\"24px\">\n",
              "    <path d=\"M0 0h24v24H0V0z\" fill=\"none\"/>\n",
              "    <path d=\"M18.56 5.44l.94 2.06.94-2.06 2.06-.94-2.06-.94-.94-2.06-.94 2.06-2.06.94zm-11 1L8.5 8.5l.94-2.06 2.06-.94-2.06-.94L8.5 2.5l-.94 2.06-2.06.94zm10 10l.94 2.06.94-2.06 2.06-.94-2.06-.94-.94-2.06-.94 2.06-2.06.94z\"/><path d=\"M17.41 7.96l-1.37-1.37c-.4-.4-.92-.59-1.43-.59-.52 0-1.04.2-1.43.59L10.3 9.45l-7.72 7.72c-.78.78-.78 2.05 0 2.83L4 21.41c.39.39.9.59 1.41.59.51 0 1.02-.2 1.41-.59l7.78-7.78 2.81-2.81c.8-.78.8-2.07 0-2.86zM5.41 20L4 18.59l7.72-7.72 1.47 1.35L5.41 20z\"/>\n",
              "  </svg>\n",
              "      </button>\n",
              "      \n",
              "  <style>\n",
              "    .colab-df-container {\n",
              "      display:flex;\n",
              "      flex-wrap:wrap;\n",
              "      gap: 12px;\n",
              "    }\n",
              "\n",
              "    .colab-df-convert {\n",
              "      background-color: #E8F0FE;\n",
              "      border: none;\n",
              "      border-radius: 50%;\n",
              "      cursor: pointer;\n",
              "      display: none;\n",
              "      fill: #1967D2;\n",
              "      height: 32px;\n",
              "      padding: 0 0 0 0;\n",
              "      width: 32px;\n",
              "    }\n",
              "\n",
              "    .colab-df-convert:hover {\n",
              "      background-color: #E2EBFA;\n",
              "      box-shadow: 0px 1px 2px rgba(60, 64, 67, 0.3), 0px 1px 3px 1px rgba(60, 64, 67, 0.15);\n",
              "      fill: #174EA6;\n",
              "    }\n",
              "\n",
              "    [theme=dark] .colab-df-convert {\n",
              "      background-color: #3B4455;\n",
              "      fill: #D2E3FC;\n",
              "    }\n",
              "\n",
              "    [theme=dark] .colab-df-convert:hover {\n",
              "      background-color: #434B5C;\n",
              "      box-shadow: 0px 1px 3px 1px rgba(0, 0, 0, 0.15);\n",
              "      filter: drop-shadow(0px 1px 2px rgba(0, 0, 0, 0.3));\n",
              "      fill: #FFFFFF;\n",
              "    }\n",
              "  </style>\n",
              "\n",
              "      <script>\n",
              "        const buttonEl =\n",
              "          document.querySelector('#df-0420b243-aed3-4f61-8602-c16ddb170267 button.colab-df-convert');\n",
              "        buttonEl.style.display =\n",
              "          google.colab.kernel.accessAllowed ? 'block' : 'none';\n",
              "\n",
              "        async function convertToInteractive(key) {\n",
              "          const element = document.querySelector('#df-0420b243-aed3-4f61-8602-c16ddb170267');\n",
              "          const dataTable =\n",
              "            await google.colab.kernel.invokeFunction('convertToInteractive',\n",
              "                                                     [key], {});\n",
              "          if (!dataTable) return;\n",
              "\n",
              "          const docLinkHtml = 'Like what you see? Visit the ' +\n",
              "            '<a target=\"_blank\" href=https://colab.research.google.com/notebooks/data_table.ipynb>data table notebook</a>'\n",
              "            + ' to learn more about interactive tables.';\n",
              "          element.innerHTML = '';\n",
              "          dataTable['output_type'] = 'display_data';\n",
              "          await google.colab.output.renderOutput(dataTable, element);\n",
              "          const docLink = document.createElement('div');\n",
              "          docLink.innerHTML = docLinkHtml;\n",
              "          element.appendChild(docLink);\n",
              "        }\n",
              "      </script>\n",
              "    </div>\n",
              "  </div>\n",
              "  "
            ]
          },
          "metadata": {},
          "execution_count": 140
        }
      ]
    }
  ]
}