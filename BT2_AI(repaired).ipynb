{
  "nbformat": 4,
  "nbformat_minor": 0,
  "metadata": {
    "colab": {
      "provenance": [],
      "toc_visible": true,
      "authorship_tag": "ABX9TyMTQqsNYWNSZQ4L8R4x1yK5",
      "include_colab_link": true
    },
    "kernelspec": {
      "name": "python3",
      "display_name": "Python 3"
    },
    "language_info": {
      "name": "python"
    }
  },
  "cells": [
    {
      "cell_type": "markdown",
      "metadata": {
        "id": "view-in-github",
        "colab_type": "text"
      },
      "source": [
        "<a href=\"https://colab.research.google.com/github/Chi68P1/Code/blob/main/BT2_AI(repaired).ipynb\" target=\"_parent\"><img src=\"https://colab.research.google.com/assets/colab-badge.svg\" alt=\"Open In Colab\"/></a>"
      ]
    },
    {
      "cell_type": "code",
      "execution_count": null,
      "metadata": {
        "id": "iJDKzhLQVsE1",
        "outputId": "35865e82-b1ec-4396-a2be-52c10f45f5aa",
        "colab": {
          "base_uri": "https://localhost:8080/"
        }
      },
      "outputs": [
        {
          "name": "stdout",
          "output_type": "stream",
          "text": [
            "Nhập giá trị thứ 1:5\n",
            "Nhập giá trị thứ 2:7\n"
          ]
        },
        {
          "output_type": "execute_result",
          "data": {
            "text/plain": [
              "12"
            ]
          },
          "metadata": {},
          "execution_count": 1
        }
      ],
      "source": [
        "value1 = input('Nhập giá trị thứ 1:')\n",
        "value2 = input('Nhập giá trị thứ 2:')\n",
        "value1 = int(value1)\n",
        "value2 = int(value2)\n",
        "value1 + value2\n"
      ]
    },
    {
      "cell_type": "code",
      "source": [
        "with open('text.txt', mode = 'w') as account:\n",
        "  account.write('201461 Nguyen Van A\\n')\n",
        "  account.write('201462 Nguyen Van B\\n')\n",
        "  account.write('201463 Nguyen Van C\\n')\n"
      ],
      "metadata": {
        "id": "_GSXX0d6W6Lk"
      },
      "execution_count": 1,
      "outputs": []
    },
    {
      "cell_type": "code",
      "source": [
        "with open('text1.txt', mode = 'w') as account:\n",
        "  print('201461 Nguyen Van A', file = account)\n",
        "  print('201462 Nguyen Van B', file = account)\n",
        "  print('201463 Nguyen Van C', file = account)"
      ],
      "metadata": {
        "id": "bds-io7WYT4A"
      },
      "execution_count": 2,
      "outputs": []
    },
    {
      "cell_type": "code",
      "source": [
        "with open('text.txt', mode = 'r') as account:\n",
        "  print(f\"{'MSSV':<5}{'Name':<5}{'Score':>2}\")\n",
        "  for record in account:\n",
        "    MSSV, Name, Score = record.split()\n",
        "    print(f\"{MSSV:<5}{Name:<5}{Score:>2}\")\n"
      ],
      "metadata": {
        "id": "uDaE5gxwZqTX"
      },
      "execution_count": null,
      "outputs": []
    },
    {
      "cell_type": "code",
      "source": [
        "import pandas as pd\n",
        "url = 'data2.csv'\n",
        "dataframe = pd.read_csv(url)\n",
        "\n",
        "dataframe.groupby('Khoa')['MSSV'].count()"
      ],
      "metadata": {
        "colab": {
          "base_uri": "https://localhost:8080/"
        },
        "id": "svA7KLOU9i4x",
        "outputId": "fcf7e44f-684f-4a7e-b351-06f4151aef31"
      },
      "execution_count": 52,
      "outputs": [
        {
          "output_type": "execute_result",
          "data": {
            "text/plain": [
              "Khoa\n",
              "CKM     5\n",
              "CLC     4\n",
              "CNTP    4\n",
              "CNTT    4\n",
              "DDT     4\n",
              "Name: MSSV, dtype: int64"
            ]
          },
          "metadata": {},
          "execution_count": 52
        }
      ]
    },
    {
      "cell_type": "code",
      "source": [
        "import pandas as pd\n",
        "url = 'data2.csv'\n",
        "dataframe = pd.read_csv(url)\n",
        "\n",
        "#hiển thị sheet\n",
        "dataframe\n",
        "\n",
        "# hiển thị 21 dòng \n",
        "dataframe.head(21)\n",
        "\n",
        "# hiển thị hàng 0 đến hàng 10\n",
        "dataframe.iloc[0:10]\n",
        "\n",
        "#Trong cột Ho va ten in ra tất cả thông tin liên qua đến \"A\"\n",
        "dataframe = dataframe.set_index(dataframe['Ho va ten'])\n",
        "dataframe.loc['A']\n",
        "\n",
        "dataframe[dataframe['Khoa']=='CNTT'].head(20) # in ra các hàng có chứa \"CNTT\"\n",
        "\n",
        "dataframe[(dataframe['Khoa']=='CNTT') & (dataframe['Diem']>=5)] # in ra các hàng có chứa \"CNTT\" và \"Diem\">=5\n",
        "\n",
        "dataframe['Khoa'].replace('CKM','Cơ khí máy').head(20) # thay tên CKM thành Cơ khí máy trong cột \"Khoa\"\n",
        "\n",
        "print('Diem cao nhat',dataframe['Diem'].max()) # avr() min() count() in giá trị điểm cao nhất\n",
        "\n",
        "dataframe['Khoa'].unique() # biến này là 1 mảng chứa các giá trị lặp lại trong cột \"Khoa\"\n",
        "\n",
        "dataframe['Khoa'].value_counts() # in ra số lần lặp lại của các giá trị trong cột 'Khoa\"\n",
        "\n",
        "dataframe.drop('MSSV', axis = 1) # xóa cột MSSV \n",
        "\n",
        "dataframe.drop(['MSSV','Khoa'], axis = 1) # xóa cột MSSV, Khoa\n",
        "\n",
        "dataframe.drop(dataframe.columns[2:5], axis = 1) # xóa cột 3 4 5\n",
        "\n",
        "dataframe[dataframe['Khoa']!='CKM'] # xóa hàng có chứa \"CKM\"\n",
        "\n",
        "dataframe[dataframe.index!=4] # xóa hàng thứ 4+1\n",
        "\n",
        "dataframe.drop_duplicates() # Trả lại DataFrame với các hàng trùng lặp đã bị xóa\n",
        "\n",
        "dataframe.groupby('Khoa').count() # chia nhóm dựa theo các giá trị trong cột \"Khoa\"\n",
        "\n",
        "dataframe.groupby(['Khoa','Diem']).count()# chia nhóm ưu tiên dựa theo các giá trị trong cột \"Khoa\" rồi đến cột \"Diem\"\n",
        "\n",
        "dataframe.groupby('Khoa')['Diem'].count() # chia nhóm dựa theo các giá trị trong cột \"Khoa\" , hiển thị cột \"Diem\"\n"
      ],
      "metadata": {
        "id": "2lMCv9lxemgR"
      },
      "execution_count": null,
      "outputs": []
    },
    {
      "cell_type": "code",
      "source": [
        "\n",
        "import pandas as pd\n",
        "import numpy as np\n",
        "time_index = pd.date_range('01/01/2023',periods = 100000,freq = '30s')\n",
        "dataframe = pd.DataFrame(index = time_index)\n",
        "dataframe['Acess.Amount'] = np.random.randint(1,10,100000)\n",
        "dataframe.resample('2W').sum() # W lấy theo tuần, M lấy theo tháng"
      ],
      "metadata": {
        "id": "eF4GCaTWsxmn",
        "colab": {
          "base_uri": "https://localhost:8080/",
          "height": 175
        },
        "outputId": "035f7762-ca71-4f44-b312-9810521f62fb"
      },
      "execution_count": 55,
      "outputs": [
        {
          "output_type": "execute_result",
          "data": {
            "text/plain": [
              "            Acess.Amount\n",
              "2023-01-01         14421\n",
              "2023-01-15        202277\n",
              "2023-01-29        201707\n",
              "2023-02-12         82410"
            ],
            "text/html": [
              "\n",
              "  <div id=\"df-7025cdce-2308-4453-ac19-4ff118010418\">\n",
              "    <div class=\"colab-df-container\">\n",
              "      <div>\n",
              "<style scoped>\n",
              "    .dataframe tbody tr th:only-of-type {\n",
              "        vertical-align: middle;\n",
              "    }\n",
              "\n",
              "    .dataframe tbody tr th {\n",
              "        vertical-align: top;\n",
              "    }\n",
              "\n",
              "    .dataframe thead th {\n",
              "        text-align: right;\n",
              "    }\n",
              "</style>\n",
              "<table border=\"1\" class=\"dataframe\">\n",
              "  <thead>\n",
              "    <tr style=\"text-align: right;\">\n",
              "      <th></th>\n",
              "      <th>Acess.Amount</th>\n",
              "    </tr>\n",
              "  </thead>\n",
              "  <tbody>\n",
              "    <tr>\n",
              "      <th>2023-01-01</th>\n",
              "      <td>14421</td>\n",
              "    </tr>\n",
              "    <tr>\n",
              "      <th>2023-01-15</th>\n",
              "      <td>202277</td>\n",
              "    </tr>\n",
              "    <tr>\n",
              "      <th>2023-01-29</th>\n",
              "      <td>201707</td>\n",
              "    </tr>\n",
              "    <tr>\n",
              "      <th>2023-02-12</th>\n",
              "      <td>82410</td>\n",
              "    </tr>\n",
              "  </tbody>\n",
              "</table>\n",
              "</div>\n",
              "      <button class=\"colab-df-convert\" onclick=\"convertToInteractive('df-7025cdce-2308-4453-ac19-4ff118010418')\"\n",
              "              title=\"Convert this dataframe to an interactive table.\"\n",
              "              style=\"display:none;\">\n",
              "        \n",
              "  <svg xmlns=\"http://www.w3.org/2000/svg\" height=\"24px\"viewBox=\"0 0 24 24\"\n",
              "       width=\"24px\">\n",
              "    <path d=\"M0 0h24v24H0V0z\" fill=\"none\"/>\n",
              "    <path d=\"M18.56 5.44l.94 2.06.94-2.06 2.06-.94-2.06-.94-.94-2.06-.94 2.06-2.06.94zm-11 1L8.5 8.5l.94-2.06 2.06-.94-2.06-.94L8.5 2.5l-.94 2.06-2.06.94zm10 10l.94 2.06.94-2.06 2.06-.94-2.06-.94-.94-2.06-.94 2.06-2.06.94z\"/><path d=\"M17.41 7.96l-1.37-1.37c-.4-.4-.92-.59-1.43-.59-.52 0-1.04.2-1.43.59L10.3 9.45l-7.72 7.72c-.78.78-.78 2.05 0 2.83L4 21.41c.39.39.9.59 1.41.59.51 0 1.02-.2 1.41-.59l7.78-7.78 2.81-2.81c.8-.78.8-2.07 0-2.86zM5.41 20L4 18.59l7.72-7.72 1.47 1.35L5.41 20z\"/>\n",
              "  </svg>\n",
              "      </button>\n",
              "      \n",
              "  <style>\n",
              "    .colab-df-container {\n",
              "      display:flex;\n",
              "      flex-wrap:wrap;\n",
              "      gap: 12px;\n",
              "    }\n",
              "\n",
              "    .colab-df-convert {\n",
              "      background-color: #E8F0FE;\n",
              "      border: none;\n",
              "      border-radius: 50%;\n",
              "      cursor: pointer;\n",
              "      display: none;\n",
              "      fill: #1967D2;\n",
              "      height: 32px;\n",
              "      padding: 0 0 0 0;\n",
              "      width: 32px;\n",
              "    }\n",
              "\n",
              "    .colab-df-convert:hover {\n",
              "      background-color: #E2EBFA;\n",
              "      box-shadow: 0px 1px 2px rgba(60, 64, 67, 0.3), 0px 1px 3px 1px rgba(60, 64, 67, 0.15);\n",
              "      fill: #174EA6;\n",
              "    }\n",
              "\n",
              "    [theme=dark] .colab-df-convert {\n",
              "      background-color: #3B4455;\n",
              "      fill: #D2E3FC;\n",
              "    }\n",
              "\n",
              "    [theme=dark] .colab-df-convert:hover {\n",
              "      background-color: #434B5C;\n",
              "      box-shadow: 0px 1px 3px 1px rgba(0, 0, 0, 0.15);\n",
              "      filter: drop-shadow(0px 1px 2px rgba(0, 0, 0, 0.3));\n",
              "      fill: #FFFFFF;\n",
              "    }\n",
              "  </style>\n",
              "\n",
              "      <script>\n",
              "        const buttonEl =\n",
              "          document.querySelector('#df-7025cdce-2308-4453-ac19-4ff118010418 button.colab-df-convert');\n",
              "        buttonEl.style.display =\n",
              "          google.colab.kernel.accessAllowed ? 'block' : 'none';\n",
              "\n",
              "        async function convertToInteractive(key) {\n",
              "          const element = document.querySelector('#df-7025cdce-2308-4453-ac19-4ff118010418');\n",
              "          const dataTable =\n",
              "            await google.colab.kernel.invokeFunction('convertToInteractive',\n",
              "                                                     [key], {});\n",
              "          if (!dataTable) return;\n",
              "\n",
              "          const docLinkHtml = 'Like what you see? Visit the ' +\n",
              "            '<a target=\"_blank\" href=https://colab.research.google.com/notebooks/data_table.ipynb>data table notebook</a>'\n",
              "            + ' to learn more about interactive tables.';\n",
              "          element.innerHTML = '';\n",
              "          dataTable['output_type'] = 'display_data';\n",
              "          await google.colab.output.renderOutput(dataTable, element);\n",
              "          const docLink = document.createElement('div');\n",
              "          docLink.innerHTML = docLinkHtml;\n",
              "          element.appendChild(docLink);\n",
              "        }\n",
              "      </script>\n",
              "    </div>\n",
              "  </div>\n",
              "  "
            ]
          },
          "metadata": {},
          "execution_count": 55
        }
      ]
    },
    {
      "cell_type": "code",
      "source": [
        "\n",
        "import pandas as pd\n",
        "url = 'http://winterolympicsmedals.com/medals.csv'\n",
        "data = pd.read_csv(url)\n",
        "\n",
        "# tìm tổng số huy chương vàng, bạc, đồng của USA\n",
        "data = data.set_index(data['NOC'])\n",
        "data1 = data.loc['USA']\n",
        "data1['Medal'].value_counts()"
      ],
      "metadata": {
        "colab": {
          "base_uri": "https://localhost:8080/"
        },
        "id": "3Wsf46e8FrgU",
        "outputId": "6d3e3ea4-bb22-46e7-a0c8-d235e2da02bd"
      },
      "execution_count": 65,
      "outputs": [
        {
          "output_type": "execute_result",
          "data": {
            "text/plain": [
              "Silver    80\n",
              "Gold      78\n",
              "Bronze    58\n",
              "Name: Medal, dtype: int64"
            ]
          },
          "metadata": {},
          "execution_count": 65
        }
      ]
    },
    {
      "cell_type": "code",
      "source": [
        "\n",
        "import pandas as pd\n",
        "url = 'http://winterolympicsmedals.com/medals.csv'\n",
        "data = pd.read_csv(url)\n",
        "\n",
        "# Tìm số huy chương vàng ở phần thi cá nhân của USA\n",
        "\n",
        "gold = data[(data['Medal']=='Gold') & (data['NOC']=='USA')]\n",
        "\n",
        "gold['Sport'].value_counts()\n"
      ],
      "metadata": {
        "colab": {
          "base_uri": "https://localhost:8080/"
        },
        "id": "Ty9qX6v2F9GM",
        "outputId": "98648c25-036f-4f03-cb6b-f5f69dd7daaa"
      },
      "execution_count": 62,
      "outputs": [
        {
          "output_type": "execute_result",
          "data": {
            "text/plain": [
              "Skating       45\n",
              "Skiing        21\n",
              "Bobsleigh      9\n",
              "Ice Hockey     3\n",
              "Name: Sport, dtype: int64"
            ]
          },
          "metadata": {},
          "execution_count": 62
        }
      ]
    }
  ]
}